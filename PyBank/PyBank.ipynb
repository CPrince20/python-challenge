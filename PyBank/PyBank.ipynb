{
 "cells": [
  {
   "cell_type": "code",
   "execution_count": 51,
   "metadata": {},
   "outputs": [],
   "source": [
    "import pandas as pd"
   ]
  },
  {
   "cell_type": "code",
   "execution_count": 52,
   "metadata": {},
   "outputs": [],
   "source": [
    "bankdf = pd.read_csv(\"Resources/budget_data.csv\")\n",
    "bankdf['shifted_column'] = bankdf['Profit/Losses'].shift(1)\n",
    "bankdf['change'] = bankdf['Profit/Losses'] - bankdf['shifted_column']\n",
    "average = bankdf['change'].mean()\n",
    "maximum = bankdf['change'].max()\n",
    "minimum = bankdf['change'].min()\n",
    "\n",
    "truemax = bankdf.loc[bankdf['change'] == maximum]\n",
    "\n",
    "truemin = bankdf.loc[bankdf['change'] == minimum]\n",
    "\n",
    "\n",
    "mindate = truemin['Date']\n",
    "minval = truemin['change']\n",
    "maxdate = truemax['Date']\n",
    "maxval = truemax['change']\n",
    "\n",
    "splitdf = bankdf['Date'].str.split(\"-\", expand=True)\n",
    "monthval = splitdf[0].count()\n",
    "#print(\"Total Months: \", monthval)\n",
    "total = bankdf['Profit/Losses'].sum()\n",
    "\n",
    "\n",
    "mindate = truemin['Date'].item()\n",
    "minval = truemin['change'].item()\n",
    "maxdate = truemax['Date'].item()\n",
    "maxval = truemax['change'].item()\n"
   ]
  },
  {
   "cell_type": "code",
   "execution_count": 56,
   "metadata": {},
   "outputs": [
    {
     "name": "stdout",
     "output_type": "stream",
     "text": [
      "Financial Analysis\n",
      "------------------\n",
      "Total Months: 86\n",
      "Total: $38382578\n",
      "Average Change:  $-2315.12\n",
      "Greatest Increase in Profits: Feb-2012 $1926159\n",
      "Greatest Decrease in Profits: Sep-2013 $-2196167\n"
     ]
    }
   ],
   "source": [
    "FinAnalysis = open(\"results.txt\", \"w\")\n",
    "\n",
    "print(\"Financial Analysis\", file=FinAnalysis)\n",
    "print(\"------------------\", file=FinAnalysis)\n",
    "print(f\"Total Months: {monthval}\", file=FinAnalysis)\n",
    "print(f\"Total: ${total}\", file=FinAnalysis)\n",
    "print(f\"Average Change:  ${round(average, 2)}\", file=FinAnalysis)\n",
    "print(f\"Greatest Increase in Profits: {maxdate} ${round(maxval)}\", file=FinAnalysis)\n",
    "print(f\"Greatest Decrease in Profits: {mindate} ${round(minval)}\", file=FinAnalysis)\n",
    "\n",
    "FinAnalysis.close()\n",
    "\n",
    "print(\"Financial Analysis\")\n",
    "print(\"------------------\")\n",
    "print(f\"Total Months: {monthval}\")\n",
    "print(f\"Total: ${total}\")\n",
    "print(f\"Average Change:  ${round(average, 2)}\")\n",
    "print(f\"Greatest Increase in Profits: {maxdate} ${round(maxval)}\")\n",
    "print(f\"Greatest Decrease in Profits: {mindate} ${round(minval)}\")"
   ]
  },
  {
   "cell_type": "code",
   "execution_count": null,
   "metadata": {},
   "outputs": [],
   "source": []
  },
  {
   "cell_type": "code",
   "execution_count": null,
   "metadata": {},
   "outputs": [],
   "source": []
  },
  {
   "cell_type": "code",
   "execution_count": null,
   "metadata": {},
   "outputs": [],
   "source": []
  }
 ],
 "metadata": {
  "kernelspec": {
   "display_name": "Python 3",
   "language": "python",
   "name": "python3"
  },
  "language_info": {
   "codemirror_mode": {
    "name": "ipython",
    "version": 3
   },
   "file_extension": ".py",
   "mimetype": "text/x-python",
   "name": "python",
   "nbconvert_exporter": "python",
   "pygments_lexer": "ipython3",
   "version": "3.6.10"
  }
 },
 "nbformat": 4,
 "nbformat_minor": 2
}
