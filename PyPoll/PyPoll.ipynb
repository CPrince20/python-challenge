{
 "cells": [
  {
   "cell_type": "code",
   "execution_count": 20,
   "metadata": {},
   "outputs": [],
   "source": [
    "import pandas as pd\n",
    "import numpy as np"
   ]
  },
  {
   "cell_type": "code",
   "execution_count": 4,
   "metadata": {},
   "outputs": [
    {
     "data": {
      "text/html": [
       "<div>\n",
       "<style scoped>\n",
       "    .dataframe tbody tr th:only-of-type {\n",
       "        vertical-align: middle;\n",
       "    }\n",
       "\n",
       "    .dataframe tbody tr th {\n",
       "        vertical-align: top;\n",
       "    }\n",
       "\n",
       "    .dataframe thead th {\n",
       "        text-align: right;\n",
       "    }\n",
       "</style>\n",
       "<table border=\"1\" class=\"dataframe\">\n",
       "  <thead>\n",
       "    <tr style=\"text-align: right;\">\n",
       "      <th></th>\n",
       "      <th>Voter ID</th>\n",
       "      <th>County</th>\n",
       "      <th>Candidate</th>\n",
       "    </tr>\n",
       "  </thead>\n",
       "  <tbody>\n",
       "    <tr>\n",
       "      <th>0</th>\n",
       "      <td>12864552</td>\n",
       "      <td>Marsh</td>\n",
       "      <td>Khan</td>\n",
       "    </tr>\n",
       "    <tr>\n",
       "      <th>1</th>\n",
       "      <td>17444633</td>\n",
       "      <td>Marsh</td>\n",
       "      <td>Correy</td>\n",
       "    </tr>\n",
       "    <tr>\n",
       "      <th>2</th>\n",
       "      <td>19330107</td>\n",
       "      <td>Marsh</td>\n",
       "      <td>Khan</td>\n",
       "    </tr>\n",
       "    <tr>\n",
       "      <th>3</th>\n",
       "      <td>19865775</td>\n",
       "      <td>Queen</td>\n",
       "      <td>Khan</td>\n",
       "    </tr>\n",
       "    <tr>\n",
       "      <th>4</th>\n",
       "      <td>11927875</td>\n",
       "      <td>Marsh</td>\n",
       "      <td>Khan</td>\n",
       "    </tr>\n",
       "  </tbody>\n",
       "</table>\n",
       "</div>"
      ],
      "text/plain": [
       "   Voter ID County Candidate\n",
       "0  12864552  Marsh      Khan\n",
       "1  17444633  Marsh    Correy\n",
       "2  19330107  Marsh      Khan\n",
       "3  19865775  Queen      Khan\n",
       "4  11927875  Marsh      Khan"
      ]
     },
     "execution_count": 4,
     "metadata": {},
     "output_type": "execute_result"
    }
   ],
   "source": [
    "polldf = pd.read_csv(\"../PyPoll/Resources/election_data.csv\")"
   ]
  },
  {
   "cell_type": "code",
   "execution_count": 15,
   "metadata": {},
   "outputs": [
    {
     "data": {
      "text/plain": [
       "3521001"
      ]
     },
     "execution_count": 15,
     "metadata": {},
     "output_type": "execute_result"
    }
   ],
   "source": []
  },
  {
   "cell_type": "code",
   "execution_count": 99,
   "metadata": {},
   "outputs": [],
   "source": [
    "Totalvotes = len(polldf['Voter ID'])\n",
    "Candidates = polldf['Candidate'].unique()\n",
    "Khanvote = len(polldf.loc[polldf['Candidate'] == Candidates[0]])\n",
    "Correyvote = len(polldf.loc[polldf['Candidate'] == Candidates[1]])\n",
    "Livote = len(polldf.loc[polldf['Candidate'] == Candidates[2]])\n",
    "Toolvote = len(polldf.loc[polldf['Candidate'] == Candidates[3]])\n",
    "\n",
    "Khanvoteper = round(Khanvote / Totalvotes * 100)\n",
    "Correyvoteper = round(Correyvote / Totalvotes * 100)\n",
    "Livoteper = round(Livote / Totalvotes * 100)\n",
    "Toolvoteper = round(Toolvote / Totalvotes * 100)\n",
    "winnernum = max(Khanvote, Correyvote, Livote, Toolvote)\n"
   ]
  },
  {
   "cell_type": "code",
   "execution_count": 104,
   "metadata": {},
   "outputs": [
    {
     "name": "stdout",
     "output_type": "stream",
     "text": [
      "Election Results\n",
      "----------------\n",
      "Total Votes: 3521001\n",
      "----------------\n",
      "Khan: 63% (2218231)\n",
      "Correy: 20% (704200)\n",
      "Li: 14% (492940)\n",
      "O'Tooley: 3% (105630)\n",
      "----------------\n",
      "Winner: Khan\n"
     ]
    }
   ],
   "source": [
    "Results = open(\"results.txt\", \"w\")\n",
    "\n",
    "print(\"Election Results\", file=Results)\n",
    "print(\"----------------\", file=Results)\n",
    "print(f\"Total Votes: {Totalvotes}\", file=Results)\n",
    "print(\"----------------\", file=Results)\n",
    "print(f\"{Candidates[0]}: {Khanvoteper}% ({Khanvote})\", file=Results)\n",
    "print(f\"{Candidates[1]}: {Correyvoteper}% ({Correyvote})\", file=Results)\n",
    "print(f\"{Candidates[2]}: {Livoteper}% ({Livote})\", file=Results)\n",
    "print(f\"{Candidates[3]}: {Toolvoteper}% ({Toolvote})\", file=Results)\n",
    "print(\"----------------\", file=Results)\n",
    "print(f\"Winner: {Candidates[0]}\", file=Results)\n",
    "Results.close()\n",
    "\n",
    "print(\"Election Results\")\n",
    "print(\"----------------\")\n",
    "print(f\"Total Votes: {Totalvotes}\")\n",
    "print(\"----------------\")\n",
    "print(f\"{Candidates[0]}: {Khanvoteper}% ({Khanvote})\")\n",
    "print(f\"{Candidates[1]}: {Correyvoteper}% ({Correyvote})\")\n",
    "print(f\"{Candidates[2]}: {Livoteper}% ({Livote})\")\n",
    "print(f\"{Candidates[3]}: {Toolvoteper}% ({Toolvote})\")\n",
    "print(\"----------------\")\n",
    "print(f\"Winner: {Candidates[0]}\")"
   ]
  },
  {
   "cell_type": "code",
   "execution_count": null,
   "metadata": {},
   "outputs": [],
   "source": []
  }
 ],
 "metadata": {
  "kernelspec": {
   "display_name": "Python 3",
   "language": "python",
   "name": "python3"
  },
  "language_info": {
   "codemirror_mode": {
    "name": "ipython",
    "version": 3
   },
   "file_extension": ".py",
   "mimetype": "text/x-python",
   "name": "python",
   "nbconvert_exporter": "python",
   "pygments_lexer": "ipython3",
   "version": "3.6.10"
  }
 },
 "nbformat": 4,
 "nbformat_minor": 4
}
